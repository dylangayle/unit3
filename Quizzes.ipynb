{
  "nbformat": 4,
  "nbformat_minor": 0,
  "metadata": {
    "colab": {
      "name": "Quizzes.ipynb",
      "provenance": [],
      "authorship_tag": "ABX9TyO+o5x9M7y7tZYO9I1MladI",
      "include_colab_link": true
    },
    "kernelspec": {
      "name": "python3",
      "display_name": "Python 3"
    },
    "language_info": {
      "name": "python"
    }
  },
  "cells": [
    {
      "cell_type": "markdown",
      "metadata": {
        "id": "view-in-github",
        "colab_type": "text"
      },
      "source": [
        "<a href=\"https://colab.research.google.com/github/dylangayle/unit3/blob/main/Quizzes.ipynb\" target=\"_parent\"><img src=\"https://colab.research.google.com/assets/colab-badge.svg\" alt=\"Open In Colab\"/></a>"
      ]
    },
    {
      "cell_type": "markdown",
      "metadata": {
        "id": "MfIHYHhflkrR"
      },
      "source": [
        "Quiz 26"
      ]
    },
    {
      "cell_type": "code",
      "metadata": {
        "id": "BbJqkmhN26d0",
        "colab": {
          "base_uri": "https://localhost:8080/"
        },
        "outputId": "6defdc80-0f4c-4776-e5c1-bdfbfe91fe31"
      },
      "source": [
        "def sum67(num_array):\n",
        "  flag = False\n",
        "  sum = 0\n",
        "  for i in range (len (num_array)):\n",
        "    if flag == False:\n",
        "      if num_array[i]==6:\n",
        "        flag = True\n",
        "      if num_array[i]==6:\n",
        "        flag = True\n",
        "      else:\n",
        "        sum += num_array[i]\n",
        "    else:\n",
        "        if num_array[i]==7:\n",
        "          flag = False\n",
        "    print(sum)\n",
        "  \n",
        "sum67([1,2,2])\n"
      ],
      "execution_count": null,
      "outputs": [
        {
          "output_type": "stream",
          "text": [
            "1\n",
            "3\n",
            "5\n"
          ],
          "name": "stdout"
        }
      ]
    },
    {
      "cell_type": "markdown",
      "metadata": {
        "id": "v92Jr3XSlcFb"
      },
      "source": [
        "###Quiz 25\n",
        "\n",
        "Covid Stats: Presemt statistics on the local corona situation for a local microbiology laboratory.\n",
        "\n",
        "Input CSV:\n",
        "\n",
        "\n",
        "Number of samples\n",
        "\n",
        "SampleID, PatientID, Analysis, Result"
      ]
    },
    {
      "cell_type": "code",
      "metadata": {
        "id": "wWl-8UUd5KYk"
      },
      "source": [
        "\n",
        "test_file = [[2],\n",
        "      [\"67316\", \"0811099889\", \"SARS\", \"POS\"],\n",
        "      [\"67316\", \"0811099889\", \"cov\", \"NEG\"]]\n",
        "\n",
        "def stats(test_file):\n",
        "  num_samples = test_file[0][0]\n",
        "  for index in range(1, len(test_file)):\n",
        "    #trying to test if the text is equal to SARS every time and not too sure what to print\n",
        "    analysis= test_file[index] [2]\n",
        "    if analysis == \"SARS\":\n",
        "      print(\"the test is sars\")\n",
        "\n",
        "    # if test_file [0] = CONTROL then\n",
        "    # #do not count it\n",
        "\n",
        "stats(test_file)\n"
      ],
      "execution_count": null,
      "outputs": []
    },
    {
      "cell_type": "markdown",
      "metadata": {
        "id": "UjUzNIgop3-H"
      },
      "source": [
        "###Quiz 22\n",
        "## Program Black Box (sum.length, length)\n",
        "Print (\"Please enter a word\")\n",
        "Read word as string\n",
        "Spilt word\n",
        "Count i from 0 to length -2\n",
        "Print([1],[i-2], [i])\n",
        "Codingame = i + i\n",
        "Print (Codingame)\n"
      ]
    },
    {
      "cell_type": "code",
      "metadata": {
        "id": "cB8HqfvZp_C7"
      },
      "source": [
        "def program(A, B, C):\n",
        "\n",
        "  if A + C >= B and B + A >= C and B + C >= A:\n",
        "    return True\n",
        "\n",
        "test1= program(1,1,2)\n",
        "print(test1))"
      ],
      "execution_count": null,
      "outputs": []
    },
    {
      "cell_type": "markdown",
      "metadata": {
        "id": "jK1JJxS4qGaS"
      },
      "source": [
        "Quiz"
      ]
    },
    {
      "cell_type": "code",
      "metadata": {
        "id": "OVK3MzYkqF0o"
      },
      "source": [
        "def program(a, b, c, d):\n",
        "  \n",
        "  output_a = (a*c)\n",
        "  output_b = (a*d) \n",
        "  output_c = (b*c)\n",
        "  output_d = (b*d)\n",
        "\n",
        "  test1 = program (1, 3, 1, 2)\n",
        "  print(output)"
      ],
      "execution_count": null,
      "outputs": []
    }
  ]
}